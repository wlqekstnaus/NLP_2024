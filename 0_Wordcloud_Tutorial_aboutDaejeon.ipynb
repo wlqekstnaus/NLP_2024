{
  "nbformat": 4,
  "nbformat_minor": 0,
  "metadata": {
    "colab": {
      "provenance": [],
      "include_colab_link": true
    },
    "kernelspec": {
      "name": "python3",
      "display_name": "Python 3"
    },
    "language_info": {
      "name": "python"
    }
  },
  "cells": [
    {
      "cell_type": "markdown",
      "metadata": {
        "id": "view-in-github",
        "colab_type": "text"
      },
      "source": [
        "<a href=\"https://colab.research.google.com/github/wlqekstnaus/NLP_2024/blob/main/0_Wordcloud_Tutorial_aboutDaejeon.ipynb\" target=\"_parent\"><img src=\"https://colab.research.google.com/assets/colab-badge.svg\" alt=\"Open In Colab\"/></a>"
      ]
    },
    {
      "cell_type": "markdown",
      "source": [
        "## **Activity: Creating a Wordcloud with Your City, DAEJEON** ☁️ ☀️ ❄️\n",
        "\n",
        "\n"
      ],
      "metadata": {
        "id": "OHs2wAZfzzao"
      }
    },
    {
      "cell_type": "code",
      "execution_count": null,
      "metadata": {
        "id": "Ay57mV32zVuJ",
        "cellView": "form"
      },
      "outputs": [],
      "source": [
        "#@markdown <font color = 'red'> **STEP 1: Install Libraries <font color = 'organge'> 필요한 프로그램 설치하기** 🎁 📘\n",
        "\n",
        "\n",
        "from wordcloud import WordCloud, STOPWORDS\n",
        "import matplotlib.pyplot as plt"
      ]
    },
    {
      "cell_type": "code",
      "source": [
        "#@markdown  <font color = 'orange'> **STEP 2: Type in your text <font color = 'organge'> 텍스트 입력하기*** 🆎\n",
        "\n",
        "\n",
        "text = \"\"\"\n",
        "Daejeon citizens are recognized for their fondness of nature, with most mountains, hot springs, and rivers freely open for public use. Many of the city's modern-day traditions, festivals, attractions, and industries are linked in some way to important mountains, rivers, and forests. There are eight 'beautiful sights' designated by city government, including the mountains Sikjangsan, Bomunsan, Gubongsan (구봉산), Jangtaesan, and Gyejoksan, the lake Daecheonghosu, as well as Yuseong Foot Spa, and Expo Science Park, which includes landmarks such as the Hanbit Tower and Expo Bridge. The Daejeon Hanbat Arboretum, built on the former parking lots of the World Expo, also holds the distinction of being the largest manmade arboretum in Korea. Two people viewing sunset from Bomunsan (mountain) Fortress in Daejeon, Korea Overlooking Daejeon from the south, Bomunsan Mountain park was established as a park in 1965. The park contains water springs, trails, Buddhist temples, and some heritage sites dating back as far as the Bronze Age. Facilities include a nature healing center, outdoor concert hall, and Daejeon O-World, a theme park which includes Daejeon Zoo, Joy Land, and Flower Land. The park is home to 160 species of 600 animals, 17 rides and themed gardens including Sounds garden, Herb Garden, and Rose Garden. Daejeon is a provincial center for the television, newspaper and publishing industries. Major television broadcasting companies, such as KBS and MBC, have branches in Daejeon; Taejon Broadcasting Corporation (TJB) is a local television broadcaster based in Daejeon. Cable TV services are available in most apartments. Eight channels of Mobile TV are provided with the digital radio channels. Several FM radio stations provide news and music on the air. KBS, MBC, TJB have their FM radio channels, there are Christian radio channels, FEBC and CBS, and traffic news channel TBN. Daejeon Ilbo is the major local newspaper which covers South Chungcheong province. Daejeon Science Festival, which symbolizes the science city of Daejeon, is a representative festival. Other yearly festivals include The Hyo Culture Root Festival, Daejeon International Wine Fair, Yuseong Oncheon Festival, Geumgang Rojas Festival, Diku Festival, Gyejoksan Mountain Manbal Festival and Gyeonwoojik Women Festival. Daejeon is home to multiple professional teams and national and internationally active sports facilities. The Daejeon World Cup Stadium was constructed for the 2002 FIFA World Cup, hosting several games including the South Korea vs. Italy match in the round of 16.[57] The facility is now the home of the city's football club. The Daejeon Hanbat Sports Complex was built in 1964, and was one of the host sites of the 1986 Asian Games, and also hosted preliminaries during the 1988 Olympic Games in Seoul. Today, with several of the facilities renovated, it hosts the city's professional baseball, K3 League football, and volleyball teams. The city is also home to LPGA golfers Pak Se-ri and Jang Jeong, and is the hometown of former New York Mets left-handed reliever Dae-sung Koo. The city is home to the K League 1 football club Daejeon Hana Citizen, playing home games at Daejeon World Cup Stadium, and the K3 League side Daejeon Korail, which plays home games at Daejeon Hanbat Sports Complex. The Hanwha Eagles of the KBO League were founded in Daejeon in 1985. They play home games at the Daejeon Hanbat Baseball Stadium, built in Busa-dong in 1964, with an iconic view of Bomunsan mountain in the outfield. The stadium was renovated and expanded in 2013, moving the outfield wall and expanding seating to 13,000.\n",
        "\"\"\""
      ],
      "metadata": {
        "id": "PUIper2WzbZ1",
        "cellView": "form"
      },
      "execution_count": null,
      "outputs": []
    },
    {
      "cell_type": "code",
      "source": [
        "#@markdown 🏫 <font color = 'brown'> **STEP 3: Split words <font color = 'organge'> 단어로 쪼개기** 🅰️ ✔️ 🅱️\n",
        "\n",
        "stopwords = set(STOPWORDS)\n",
        "spltxt = text.split()"
      ],
      "metadata": {
        "id": "GSUkxKWezhKp",
        "cellView": "form"
      },
      "execution_count": null,
      "outputs": []
    },
    {
      "cell_type": "code",
      "source": [
        "#@markdown 🏫 <font color = 'blank'> **STEP 4: Creating a Wordcloud <font color = 'organge'> 워드 클라우드 만들기** ☀️☁️ ❄️\n",
        "\n",
        "\n",
        "wordcloud = WordCloud(stopwords=stopwords,relative_scaling = 0.2, random_state=3,\n",
        "                      max_words=2000, background_color='white').generate(' '.join(spltxt))\n",
        "plt.figure(figsize=(12,12))\n",
        "plt.imshow(wordcloud, interpolation=\"bilinear\")\n",
        "plt.axis(\"off\")\n",
        "wordcloud.to_file('wordcloud_title.png')"
      ],
      "metadata": {
        "id": "56YV292wznwj",
        "cellView": "form"
      },
      "execution_count": null,
      "outputs": []
    },
    {
      "cell_type": "markdown",
      "source": [
        "## 1️⃣ **Wikipedia 에서 대전을 검색하면 아래 문서가 나옵니다. 아래 링크를 클릭하여 들어가서 워드 클라우드 내용이 어디에서 발췌되었는지 찾아보세요.**\n",
        "\n",
        "#**[Wikipedia: Daejeon](https://en.wikipedia.org/wiki/Daejeon)**\n",
        "\n",
        "## <font color = 'brown'> **Who's the Winner?! 상품의 주인공은?!** 🍎🍔🍦🍰\n"
      ],
      "metadata": {
        "id": "m49jWJj5T1Y7"
      }
    }
  ]
}